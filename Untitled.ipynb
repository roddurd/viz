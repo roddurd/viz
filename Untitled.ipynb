{
 "cells": [
  {
   "cell_type": "code",
   "execution_count": 1,
   "id": "designing-cannon",
   "metadata": {},
   "outputs": [],
   "source": [
    "import math\n",
    "import numpy as np\n",
    "from PIL import Image\n",
    "import random"
   ]
  },
  {
   "cell_type": "code",
   "execution_count": 74,
   "id": "interesting-payroll",
   "metadata": {},
   "outputs": [],
   "source": [
    "w = h = 1000\n",
    "data = np.zeros((h, w, 3), dtype=np.uint8)"
   ]
  },
  {
   "cell_type": "code",
   "execution_count": 3,
   "id": "third-terror",
   "metadata": {},
   "outputs": [],
   "source": [
    "def center(data): #data is a square np array\n",
    "    s = len(data)\n",
    "    half = s // 2\n",
    "    for i in range(s):\n",
    "        for j in range(s):\n",
    "            diff = math.sqrt((half-i)**2 + (half-j)**2)\n",
    "            data[i][j] = [diff//s**2, diff, diff//s]\n",
    "    return data\n",
    "data = center(data)"
   ]
  },
  {
   "cell_type": "code",
   "execution_count": 79,
   "id": "bulgarian-asian",
   "metadata": {},
   "outputs": [],
   "source": [
    "def mandelbrot(c): #c is complex\n",
    "    z = 0\n",
    "    for i in range(5):\n",
    "        z = z**2 + c\n",
    "    return z"
   ]
  },
  {
   "cell_type": "code",
   "execution_count": 80,
   "id": "seventh-currency",
   "metadata": {},
   "outputs": [],
   "source": [
    "m = {}\n",
    "m[(0,0)]=mandelbrot(0) # memoization"
   ]
  },
  {
   "cell_type": "code",
   "execution_count": 81,
   "id": "cubic-yorkshire",
   "metadata": {},
   "outputs": [
    {
     "ename": "NameError",
     "evalue": "name 'd' is not defined",
     "output_type": "error",
     "traceback": [
      "\u001b[0;31m-------------------------------------------------------\u001b[0m",
      "\u001b[0;31mNameError\u001b[0m             Traceback (most recent call last)",
      "\u001b[0;32m<ipython-input-81-7799723b7e99>\u001b[0m in \u001b[0;36m<module>\u001b[0;34m\u001b[0m\n\u001b[1;32m      6\u001b[0m \u001b[0;34m\u001b[0m\u001b[0m\n\u001b[1;32m      7\u001b[0m fill(data, thres=1, rings=3, color=color, \n\u001b[0;32m----> 8\u001b[0;31m      sa=(1/2.18), sb=(1/2.18), da=0, db=(d)) #0.2 to 20, in steps of 0.2\n\u001b[0m",
      "\u001b[0;31mNameError\u001b[0m: name 'd' is not defined"
     ]
    }
   ],
   "source": [
    "# data[i][j] = int(255*o*5) if o<thres else 0     # white if bounded else black\n",
    "#            = int(255*o*5)\n",
    "\n",
    "fill(data, thres=1, rings=3, color=color, \n",
    "     sa=(1/2.18), sb=(1/2.18), da=-1/(0.1*i+0.1), db=-(1/(0.1*i+0.1))) #0.2 to 20, in steps of 0.2\n",
    "\n",
    "fill(data, thres=1, rings=3, color=color, \n",
    "     sa=(1/2.18), sb=(1/2.18), da=0, db=(d)) #0.2 to 20, in steps of 0.2"
   ]
  },
  {
   "cell_type": "code",
   "execution_count": 82,
   "id": "differential-money",
   "metadata": {},
   "outputs": [],
   "source": [
    "def fill(data, thres, rings, color, sa, sb, da, db):\n",
    "    for i in range(h):\n",
    "        for j in range(h):\n",
    "#             a, b = 2*(i/h)-1, 2*(j/h)-1                      # [-1, 1] \n",
    "#             a, b = (i/h)-1, (j/h)-1                          # beach \n",
    "#             a, b = (1/3.14)*(i/h)-0.5, (1/3.14)*(j/h)-0.9   # zoof\n",
    "            a = sa*(i/h)+da \n",
    "            b = sb*(j/h)+db \n",
    "            n = m[(a,b)] if (a,b) in m else mandelbrot(complex(a,b))\n",
    "            o = math.log(abs(n)+0.1, 10)             # exponent base 10 of magnitude\n",
    "            o = int(o*rings)\n",
    "            data[i][j] = [int(c*o) for c in color] if o<thres else 0     # color if bounded else black\n",
    "    return data\n"
   ]
  },
  {
   "cell_type": "markdown",
   "id": "offshore-wilson",
   "metadata": {},
   "source": [
    "# Run single"
   ]
  },
  {
   "cell_type": "code",
   "execution_count": 59,
   "id": "sapphire-thomas",
   "metadata": {},
   "outputs": [
    {
     "name": "stdout",
     "output_type": "stream",
     "text": [
      "o: 5285\n"
     ]
    }
   ],
   "source": [
    "\n",
    "color = [50, 68, 124]\n",
    "data = np.zeros((w, w, 3), dtype=np.uint8)\n",
    "data = fill(data, thres=3, rings=1000, color=color, sa=, sb=, da=, db=) #\n",
    "img = Image.fromarray(data, 'RGB')\n",
    "img.save(\"zoof\"+str(12).zfill(3)+'.png')"
   ]
  },
  {
   "cell_type": "markdown",
   "id": "romance-appointment",
   "metadata": {},
   "source": [
    "# Iterate / prepare gif"
   ]
  },
  {
   "cell_type": "code",
   "execution_count": 106,
   "id": "canadian-grammar",
   "metadata": {},
   "outputs": [
    {
     "name": "stdout",
     "output_type": "stream",
     "text": [
      "1.0\n",
      "0.2782559402207124\n",
      "0.0774263682681127\n",
      "0.021544346900318832\n",
      "0.005994842503189409\n",
      "0.0016681005372000592\n",
      "0.00046415888336127773\n",
      "0.00012915496650148828\n",
      "3.5938136638046256e-05\n",
      "1e-05\n"
     ]
    }
   ],
   "source": [
    "for i in np.logspace(0, -5, num=10):\n",
    "    print(i)"
   ]
  },
  {
   "cell_type": "code",
   "execution_count": 110,
   "id": "forward-moscow",
   "metadata": {},
   "outputs": [
    {
     "name": "stdout",
     "output_type": "stream",
     "text": [
      "saved 1.0\n",
      "saved 0.95455\n",
      "saved 0.91116\n",
      "saved 0.86975\n",
      "saved 0.83022\n",
      "saved 0.79248\n",
      "saved 0.75646\n",
      "saved 0.72208\n",
      "saved 0.68926\n",
      "saved 0.65793\n",
      "saved 0.62803\n",
      "saved 0.59948\n",
      "saved 0.57224\n",
      "saved 0.54623\n",
      "saved 0.5214\n",
      "saved 0.4977\n",
      "saved 0.47508\n",
      "saved 0.45349\n",
      "saved 0.43288\n",
      "saved 0.4132\n",
      "saved 0.39442\n",
      "saved 0.37649\n",
      "saved 0.35938\n",
      "saved 0.34305\n",
      "saved 0.32745\n",
      "saved 0.31257\n",
      "saved 0.29836\n",
      "saved 0.2848\n",
      "saved 0.27186\n",
      "saved 0.2595\n",
      "saved 0.24771\n",
      "saved 0.23645\n",
      "saved 0.2257\n",
      "saved 0.21544\n",
      "saved 0.20565\n"
     ]
    },
    {
     "ename": "KeyboardInterrupt",
     "evalue": "",
     "output_type": "error",
     "traceback": [
      "\u001b[0;31m-------------------------------------------------------\u001b[0m",
      "\u001b[0;31mKeyboardInterrupt\u001b[0m     Traceback (most recent call last)",
      "\u001b[0;32m<ipython-input-110-6504e0c54638>\u001b[0m in \u001b[0;36m<module>\u001b[0;34m\u001b[0m\n\u001b[1;32m      3\u001b[0m     \u001b[0mcolor\u001b[0m \u001b[0;34m=\u001b[0m \u001b[0;34m[\u001b[0m\u001b[0mcolor\u001b[0m\u001b[0;34m[\u001b[0m\u001b[0;36m0\u001b[0m\u001b[0;34m]\u001b[0m\u001b[0;34m+\u001b[0m\u001b[0;36m1\u001b[0m\u001b[0;34m,\u001b[0m \u001b[0mcolor\u001b[0m\u001b[0;34m[\u001b[0m\u001b[0;36m1\u001b[0m\u001b[0;34m]\u001b[0m\u001b[0;34m,\u001b[0m \u001b[0mcolor\u001b[0m\u001b[0;34m[\u001b[0m\u001b[0;36m2\u001b[0m\u001b[0;34m]\u001b[0m\u001b[0;34m-\u001b[0m\u001b[0;36m1\u001b[0m\u001b[0;34m]\u001b[0m\u001b[0;34m\u001b[0m\u001b[0;34m\u001b[0m\u001b[0m\n\u001b[1;32m      4\u001b[0m     \u001b[0mdata\u001b[0m \u001b[0;34m=\u001b[0m \u001b[0mnp\u001b[0m\u001b[0;34m.\u001b[0m\u001b[0mzeros\u001b[0m\u001b[0;34m(\u001b[0m\u001b[0;34m(\u001b[0m\u001b[0mh\u001b[0m\u001b[0;34m,\u001b[0m \u001b[0mw\u001b[0m\u001b[0;34m,\u001b[0m \u001b[0;36m3\u001b[0m\u001b[0;34m)\u001b[0m\u001b[0;34m,\u001b[0m \u001b[0mdtype\u001b[0m\u001b[0;34m=\u001b[0m\u001b[0mnp\u001b[0m\u001b[0;34m.\u001b[0m\u001b[0muint8\u001b[0m\u001b[0;34m)\u001b[0m\u001b[0;34m\u001b[0m\u001b[0;34m\u001b[0m\u001b[0m\n\u001b[0;32m----> 5\u001b[0;31m     \u001b[0mdata\u001b[0m \u001b[0;34m=\u001b[0m \u001b[0mfill\u001b[0m\u001b[0;34m(\u001b[0m\u001b[0mdata\u001b[0m\u001b[0;34m,\u001b[0m \u001b[0mthres\u001b[0m\u001b[0;34m=\u001b[0m\u001b[0mi\u001b[0m\u001b[0;34m,\u001b[0m \u001b[0mrings\u001b[0m\u001b[0;34m=\u001b[0m\u001b[0;36m3\u001b[0m\u001b[0;34m,\u001b[0m \u001b[0mcolor\u001b[0m\u001b[0;34m=\u001b[0m\u001b[0mcolor\u001b[0m\u001b[0;34m,\u001b[0m \u001b[0msa\u001b[0m\u001b[0;34m=\u001b[0m\u001b[0;34m(\u001b[0m\u001b[0mi\u001b[0m\u001b[0;34m/\u001b[0m\u001b[0;36m2.18\u001b[0m\u001b[0;34m)\u001b[0m\u001b[0;34m,\u001b[0m \u001b[0msb\u001b[0m\u001b[0;34m=\u001b[0m\u001b[0;34m(\u001b[0m\u001b[0mi\u001b[0m\u001b[0;34m/\u001b[0m\u001b[0;36m2.18\u001b[0m\u001b[0;34m)\u001b[0m\u001b[0;34m,\u001b[0m \u001b[0mda\u001b[0m\u001b[0;34m=\u001b[0m\u001b[0;34m-\u001b[0m\u001b[0;36m0.1\u001b[0m\u001b[0;34m,\u001b[0m \u001b[0mdb\u001b[0m\u001b[0;34m=\u001b[0m\u001b[0;34m-\u001b[0m\u001b[0;36m0.1\u001b[0m\u001b[0;34m)\u001b[0m\u001b[0;31m#0.2 to 20, in steps of 0.2\u001b[0m\u001b[0;34m\u001b[0m\u001b[0;34m\u001b[0m\u001b[0m\n\u001b[0m\u001b[1;32m      6\u001b[0m     \u001b[0mimg\u001b[0m \u001b[0;34m=\u001b[0m \u001b[0mImage\u001b[0m\u001b[0;34m.\u001b[0m\u001b[0mfromarray\u001b[0m\u001b[0;34m(\u001b[0m\u001b[0mdata\u001b[0m\u001b[0;34m,\u001b[0m \u001b[0;34m'RGB'\u001b[0m\u001b[0;34m)\u001b[0m\u001b[0;34m\u001b[0m\u001b[0;34m\u001b[0m\u001b[0m\n\u001b[1;32m      7\u001b[0m     \u001b[0mi\u001b[0m \u001b[0;34m=\u001b[0m \u001b[0mround\u001b[0m\u001b[0;34m(\u001b[0m\u001b[0mi\u001b[0m\u001b[0;34m,\u001b[0m \u001b[0;36m5\u001b[0m\u001b[0;34m)\u001b[0m\u001b[0;34m\u001b[0m\u001b[0;34m\u001b[0m\u001b[0m\n",
      "\u001b[0;32m<ipython-input-82-6dc2cf9c40b6>\u001b[0m in \u001b[0;36mfill\u001b[0;34m(data, thres, rings, color, sa, sb, da, db)\u001b[0m\n\u001b[1;32m     10\u001b[0m             \u001b[0mo\u001b[0m \u001b[0;34m=\u001b[0m \u001b[0mmath\u001b[0m\u001b[0;34m.\u001b[0m\u001b[0mlog\u001b[0m\u001b[0;34m(\u001b[0m\u001b[0mabs\u001b[0m\u001b[0;34m(\u001b[0m\u001b[0mn\u001b[0m\u001b[0;34m)\u001b[0m\u001b[0;34m+\u001b[0m\u001b[0;36m0.1\u001b[0m\u001b[0;34m,\u001b[0m \u001b[0;36m10\u001b[0m\u001b[0;34m)\u001b[0m             \u001b[0;31m# exponent base 10 of magnitude\u001b[0m\u001b[0;34m\u001b[0m\u001b[0;34m\u001b[0m\u001b[0m\n\u001b[1;32m     11\u001b[0m             \u001b[0mo\u001b[0m \u001b[0;34m=\u001b[0m \u001b[0mint\u001b[0m\u001b[0;34m(\u001b[0m\u001b[0mo\u001b[0m\u001b[0;34m*\u001b[0m\u001b[0mrings\u001b[0m\u001b[0;34m)\u001b[0m\u001b[0;34m\u001b[0m\u001b[0;34m\u001b[0m\u001b[0m\n\u001b[0;32m---> 12\u001b[0;31m             \u001b[0mdata\u001b[0m\u001b[0;34m[\u001b[0m\u001b[0mi\u001b[0m\u001b[0;34m]\u001b[0m\u001b[0;34m[\u001b[0m\u001b[0mj\u001b[0m\u001b[0;34m]\u001b[0m \u001b[0;34m=\u001b[0m \u001b[0;34m[\u001b[0m\u001b[0mint\u001b[0m\u001b[0;34m(\u001b[0m\u001b[0mc\u001b[0m\u001b[0;34m*\u001b[0m\u001b[0mo\u001b[0m\u001b[0;34m)\u001b[0m \u001b[0;32mfor\u001b[0m \u001b[0mc\u001b[0m \u001b[0;32min\u001b[0m \u001b[0mcolor\u001b[0m\u001b[0;34m]\u001b[0m \u001b[0;32mif\u001b[0m \u001b[0mo\u001b[0m\u001b[0;34m<\u001b[0m\u001b[0mthres\u001b[0m \u001b[0;32melse\u001b[0m \u001b[0;36m0\u001b[0m     \u001b[0;31m# color if bounded else black\u001b[0m\u001b[0;34m\u001b[0m\u001b[0;34m\u001b[0m\u001b[0m\n\u001b[0m\u001b[1;32m     13\u001b[0m     \u001b[0;32mreturn\u001b[0m \u001b[0mdata\u001b[0m\u001b[0;34m\u001b[0m\u001b[0;34m\u001b[0m\u001b[0m\n",
      "\u001b[0;31mKeyboardInterrupt\u001b[0m: "
     ]
    }
   ],
   "source": [
    "color = [14, 128, 128]\n",
    "for i in np.logspace(0, -1, num=50):\n",
    "    color = [color[0]+1, color[1], color[2]-1]\n",
    "    data = np.zeros((h, w, 3), dtype=np.uint8)\n",
    "    data = fill(data, thres=i*(3**-i), rings=3, color=color, sa=(i/2.18), sb=(i/2.18), da=-0.1, db=-0.1)#0.2 to 20, in steps of 0.2\n",
    "    img = Image.fromarray(data, 'RGB')\n",
    "    i = round(i, 5)\n",
    "    img.save(\"mov/a\" + str(i).zfill(3)+'.png')\n",
    "    print(\"saved \" + str(i))"
   ]
  },
  {
   "cell_type": "code",
   "execution_count": null,
   "id": "varied-former",
   "metadata": {},
   "outputs": [],
   "source": []
  }
 ],
 "metadata": {
  "kernelspec": {
   "display_name": "Python 3",
   "language": "python",
   "name": "python3"
  },
  "language_info": {
   "codemirror_mode": {
    "name": "ipython",
    "version": 3
   },
   "file_extension": ".py",
   "mimetype": "text/x-python",
   "name": "python",
   "nbconvert_exporter": "python",
   "pygments_lexer": "ipython3",
   "version": "3.9.2"
  }
 },
 "nbformat": 4,
 "nbformat_minor": 5
}
