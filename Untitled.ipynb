{
 "cells": [
  {
   "cell_type": "code",
   "execution_count": 3,
   "id": "prepared-transsexual",
   "metadata": {},
   "outputs": [],
   "source": [
    "import math\n",
    "import numpy as np\n",
    "import pandas as pd\n",
    "from PIL import Image"
   ]
  },
  {
   "cell_type": "code",
   "execution_count": 251,
   "id": "chinese-reducing",
   "metadata": {},
   "outputs": [],
   "source": [
    "w, h = 5000, 5000\n",
    "data = np.zeros((h, w, 3), dtype=np.uint8)"
   ]
  },
  {
   "cell_type": "code",
   "execution_count": 67,
   "id": "intelligent-heritage",
   "metadata": {},
   "outputs": [],
   "source": [
    "def center(data): #data is a square np array\n",
    "    s = len(data)\n",
    "    half = s // 2\n",
    "    for i in range(s):\n",
    "        for j in range(s):\n",
    "            diff = math.sqrt((half-i)**2 + (half-j)**2)\n",
    "            data[i][j] = [diff//s**2, diff, diff//s]\n",
    "    return data\n",
    "data = center(data)"
   ]
  },
  {
   "cell_type": "code",
   "execution_count": 234,
   "id": "swiss-hundred",
   "metadata": {},
   "outputs": [],
   "source": [
    "def mandelbrot(c): #c is complex\n",
    "    z = 0\n",
    "    for i in range(10):\n",
    "        z = z**2 + c\n",
    "    return z"
   ]
  },
  {
   "cell_type": "code",
   "execution_count": 252,
   "id": "prepared-taste",
   "metadata": {},
   "outputs": [],
   "source": [
    "def fill(data, thres):\n",
    "    for i in range(h):\n",
    "        for j in range(h):\n",
    "            a, b = i/h, j/h                       # [ 0, 1]\n",
    "            n = mandelbrot(complex(2*a-1, 2*b-1)) # [-1, 1]\n",
    "            o = int(math.log(abs(n)+0.1, 10))     # exponent base 10 of magnitude\n",
    "            data[i][j] = 255 if o<thres else 0     # white if bounded else black\n",
    "    return data\n"
   ]
  },
  {
   "cell_type": "code",
   "execution_count": 253,
   "id": "regulation-judges",
   "metadata": {},
   "outputs": [
    {
     "data": {
      "text/plain": [
       "127"
      ]
     },
     "execution_count": 253,
     "metadata": {},
     "output_type": "execute_result"
    }
   ],
   "source": [
    "for i in range(25):\n",
    "    data = np.zeros((h, w, 3), dtype=np.uint8)\n",
    "    data = fill(data, i)\n",
    "    img = Image.fromarray(data, 'RGB')\n",
    "    img.save(str(i)+'my.png')\n",
    "    img.show()"
   ]
  },
  {
   "cell_type": "code",
   "execution_count": 246,
   "id": "higher-clearing",
   "metadata": {},
   "outputs": [
    {
     "ename": "KeyError",
     "evalue": "(0, 0)",
     "output_type": "error",
     "traceback": [
      "\u001b[0;31m---------------------------------------------------------------------------\u001b[0m",
      "\u001b[0;31mKeyError\u001b[0m                                  Traceback (most recent call last)",
      "\u001b[0;32m<ipython-input-246-7fd0afd1bc5c>\u001b[0m in \u001b[0;36m<module>\u001b[0;34m\u001b[0m\n\u001b[1;32m      1\u001b[0m \u001b[0;32mfor\u001b[0m \u001b[0mi\u001b[0m \u001b[0;32min\u001b[0m \u001b[0mrange\u001b[0m\u001b[0;34m(\u001b[0m\u001b[0mh\u001b[0m\u001b[0;34m)\u001b[0m\u001b[0;34m:\u001b[0m\u001b[0;34m\u001b[0m\u001b[0;34m\u001b[0m\u001b[0m\n\u001b[1;32m      2\u001b[0m     \u001b[0;32mfor\u001b[0m \u001b[0mj\u001b[0m \u001b[0;32min\u001b[0m \u001b[0mrange\u001b[0m\u001b[0;34m(\u001b[0m\u001b[0mh\u001b[0m\u001b[0;34m)\u001b[0m\u001b[0;34m:\u001b[0m\u001b[0;34m\u001b[0m\u001b[0;34m\u001b[0m\u001b[0m\n\u001b[0;32m----> 3\u001b[0;31m         \u001b[0mdata\u001b[0m\u001b[0;34m[\u001b[0m\u001b[0mi\u001b[0m\u001b[0;34m]\u001b[0m\u001b[0;34m[\u001b[0m\u001b[0mj\u001b[0m\u001b[0;34m]\u001b[0m \u001b[0;34m=\u001b[0m \u001b[0mcolors\u001b[0m\u001b[0;34m[\u001b[0m\u001b[0;34m(\u001b[0m\u001b[0mi\u001b[0m\u001b[0;34m,\u001b[0m\u001b[0mj\u001b[0m\u001b[0;34m)\u001b[0m\u001b[0;34m]\u001b[0m\u001b[0;34m\u001b[0m\u001b[0;34m\u001b[0m\u001b[0m\n\u001b[0m",
      "\u001b[0;31mKeyError\u001b[0m: (0, 0)"
     ]
    }
   ],
   "source": [
    "for i in range(h):\n",
    "    for j in range(h):\n",
    "        data[i][j] = colors[(i,j)]"
   ]
  },
  {
   "cell_type": "code",
   "execution_count": null,
   "id": "precise-history",
   "metadata": {},
   "outputs": [],
   "source": []
  },
  {
   "cell_type": "code",
   "execution_count": 254,
   "id": "recorded-daniel",
   "metadata": {},
   "outputs": [],
   "source": [
    "\n",
    "img = Image.fromarray(data, 'RGB')\n",
    "img.save('my.png')\n",
    "img.show()"
   ]
  }
 ],
 "metadata": {
  "kernelspec": {
   "display_name": "Python 3",
   "language": "python",
   "name": "python3"
  },
  "language_info": {
   "codemirror_mode": {
    "name": "ipython",
    "version": 3
   },
   "file_extension": ".py",
   "mimetype": "text/x-python",
   "name": "python",
   "nbconvert_exporter": "python",
   "pygments_lexer": "ipython3",
   "version": "3.9.2"
  }
 },
 "nbformat": 4,
 "nbformat_minor": 5
}
